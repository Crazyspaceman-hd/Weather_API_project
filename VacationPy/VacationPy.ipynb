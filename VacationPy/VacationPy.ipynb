{
 "cells": [
  {
   "cell_type": "markdown",
   "metadata": {},
   "source": [
    "# VacationPy\n",
    "----\n",
    "\n",
    "#### Note\n",
    "* Keep an eye on your API usage. Use https://developers.google.com/maps/reporting/gmp-reporting as reference for how to monitor your usage and billing.\n",
    "\n",
    "* Instructions have been included for each segment. You do not have to follow them exactly, but they are included to help you think through the steps."
   ]
  },
  {
   "cell_type": "markdown",
   "metadata": {},
   "source": [
    "# Final Heatmap Image\n",
    "![This should work](heatmap.png)"
   ]
  },
  {
   "cell_type": "code",
   "execution_count": 1,
   "metadata": {},
   "outputs": [],
   "source": [
    "# Dependencies and Setup\n",
    "import matplotlib.pyplot as plt\n",
    "import pandas as pd\n",
    "import numpy as np\n",
    "import requests\n",
    "import gmaps\n",
    "import os\n",
    "\n",
    "# Import API key\n",
    "from config import gkey"
   ]
  },
  {
   "cell_type": "markdown",
   "metadata": {},
   "source": [
    "### Store Part I results into DataFrame\n",
    "* Load the csv exported in Part I to a DataFrame"
   ]
  },
  {
   "cell_type": "code",
   "execution_count": 110,
   "metadata": {},
   "outputs": [],
   "source": [
    "#imports .csv\n",
    "weather_data_file = \"input/weather_data.csv\"\n",
    "#loads csv into dataframe\n",
    "weather_df = pd.read_csv(weather_data_file)\n",
    "weather_df['City']=weather_df['City'].str.title()"
   ]
  },
  {
   "cell_type": "markdown",
   "metadata": {},
   "source": [
    "### Humidity Heatmap\n",
    "* Configure gmaps.\n",
    "* Use the Lat and Lng as locations and Humidity as the weight.\n",
    "* Add Heatmap layer to map."
   ]
  },
  {
   "cell_type": "code",
   "execution_count": 111,
   "metadata": {},
   "outputs": [],
   "source": [
    "#configures gmaps with api key stored in seperate file\n",
    "gmaps.configure(api_key=gkey)\n",
    "#loading coordinate data and humidity into lists and assigning them type float\n",
    "locations = weather_df[[\"Lat\", \"Lng\"]].astype(float)\n",
    "humidity = weather_df[\"Humidity\"].astype(float)\n",
    "\n"
   ]
  },
  {
   "cell_type": "code",
   "execution_count": 112,
   "metadata": {},
   "outputs": [
    {
     "data": {
      "application/vnd.jupyter.widget-view+json": {
       "model_id": "fb725e7a77d142f197e884961844b442",
       "version_major": 2,
       "version_minor": 0
      },
      "text/plain": [
       "Figure(layout=FigureLayout(height='600px', width='950px'))"
      ]
     },
     "metadata": {},
     "output_type": "display_data"
    }
   ],
   "source": [
    "#loads figure into variable, zoom level, map center, width and height adjusted for readability\n",
    "fig = gmaps.figure(zoom_level=2, center=(25,5),layout={'width':'950px', 'height':'600px'})\n",
    "#create heat layer using humidity and coordinate data\n",
    "#intensity variable input so the highest humidity will have the maximum intensity\n",
    "heat_layer = gmaps.heatmap_layer(locations, weights=humidity, \n",
    "                                 dissipating=False, max_intensity=weather_df[\"Humidity\"].max(),\n",
    "                                 point_radius = 2)\n",
    "#apply heat layer to map\n",
    "fig.add_layer(heat_layer)\n",
    "#outputs map\n",
    "fig"
   ]
  },
  {
   "cell_type": "markdown",
   "metadata": {},
   "source": [
    "### Create new DataFrame fitting weather criteria\n",
    "* Narrow down the cities to fit weather conditions.\n",
    "* Drop any rows will null values."
   ]
  },
  {
   "cell_type": "code",
   "execution_count": 113,
   "metadata": {},
   "outputs": [],
   "source": [
    "#This section narrows the dataframe down to cities have cloudiness under 50, humidity under 75 \n",
    "# and temperatures between 0 and 32 degrees fahrenheit\n",
    "vacation=weather_df.loc[weather_df[\"Cloudiness\"]<50]\n",
    "vacation=vacation.loc[vacation[\"Humidity\"]<75]\n",
    "vacation=vacation.loc[vacation[\"Max Temp in F\"]>0]\n",
    "vacation=vacation.loc[vacation[\"Max Temp in F\"]<32]\n",
    "vacation=vacation.dropna()"
   ]
  },
  {
   "cell_type": "markdown",
   "metadata": {},
   "source": [
    "### Hotel Map\n",
    "* Store into variable named `hotel_df`.\n",
    "* Add a \"Hotel Name\" column to the DataFrame.\n",
    "* Set parameters to search for hotels with 5000 meters.\n",
    "* Hit the Google Places API for each city's coordinates.\n",
    "* Store the first Hotel result into the DataFrame.\n",
    "* Plot markers on top of the heatmap."
   ]
  },
  {
   "cell_type": "code",
   "execution_count": 114,
   "metadata": {},
   "outputs": [],
   "source": [
    "#load dataframe into requested variable\n",
    "hotel_df=vacation\n",
    "#add empty column for hotel name\n",
    "hotel_df[\"Hotel Name\"]=\"\""
   ]
  },
  {
   "cell_type": "code",
   "execution_count": 115,
   "metadata": {},
   "outputs": [
    {
     "name": "stdout",
     "output_type": "stream",
     "text": [
      "Retrieving Results for Index 43: Birjand.\n",
      "Closest hotel to Birjand is هتل پرويز.\n",
      "------------\n",
      "Retrieving Results for Index 46: Albany.\n",
      "Missing field/result... skipping.\n",
      "------------\n",
      "Retrieving Results for Index 76: Chengde.\n",
      "Closest hotel to Chengde is Yunshan Hotel.\n",
      "------------\n",
      "Retrieving Results for Index 84: Petropavlovsk-Kamchatskiy.\n",
      "Closest hotel to Petropavlovsk-Kamchatskiy is Hotel Comfort.\n",
      "------------\n",
      "Retrieving Results for Index 141: Jiutai.\n",
      "Closest hotel to Jiutai is Echarm(changchun Jiutai.\n",
      "------------\n",
      "Retrieving Results for Index 164: Ilulissat.\n",
      "Closest hotel to Ilulissat is Hotel Arctic.\n",
      "------------\n",
      "Retrieving Results for Index 185: Linxia.\n",
      "Closest hotel to Linxia is Hehuang Mingzhu International Hotel.\n",
      "------------\n",
      "Retrieving Results for Index 206: Mitchell.\n",
      "Closest hotel to Mitchell is Comfort Inn & Suites.\n",
      "------------\n",
      "Retrieving Results for Index 222: Husavik.\n",
      "Closest hotel to Husavik is Askja Apartment.\n",
      "------------\n",
      "Retrieving Results for Index 279: Varhaug.\n",
      "Missing field/result... skipping.\n",
      "------------\n",
      "Retrieving Results for Index 335: Harbin.\n",
      "Closest hotel to Harbin is Jingu Hotel.\n",
      "------------\n",
      "Retrieving Results for Index 357: Nemuro.\n",
      "Closest hotel to Nemuro is Hotel Nemuro Kaiyoutei.\n",
      "------------\n",
      "Retrieving Results for Index 414: Maloy.\n",
      "Closest hotel to Maloy is Thon Hotel Måløy.\n",
      "------------\n",
      "Retrieving Results for Index 496: Stavern.\n",
      "Closest hotel to Stavern is Hotel Wassilioff.\n",
      "------------\n",
      "Retrieving Results for Index 525: Cody.\n",
      "Closest hotel to Cody is Best Western Premier Ivy Inn & Suites.\n",
      "------------\n"
     ]
    }
   ],
   "source": [
    "base_url = \"https://maps.googleapis.com/maps/api/place/nearbysearch/json\"\n",
    "params = {\"radius\": 5000,\n",
    "        \"type\": \"lodging\", #fun fact 'hotel' is not a type in the google API\n",
    "        \"keyword\":\"hotel\",\n",
    "        \"key\": gkey,\n",
    "        }\n",
    "for index, row in hotel_df.iterrows():\n",
    "\n",
    "    # get city name from df\n",
    "    city_name = row['City']\n",
    "    # add location to params dict\n",
    "    params['location'] = f\"{hotel_df.at[index,'Lat']}, {hotel_df.at[index,'Lng']}\"\n",
    "\n",
    "    # assemble url and make API request\n",
    "    print(f\"Retrieving Results for Index {index}: {city_name}.\")\n",
    "    response = requests.get(base_url, params=params).json()\n",
    "    \n",
    "    # extract results\n",
    "    results = response['results']\n",
    "    \n",
    "    try:\n",
    "        print(f\"Closest hotel to {city_name} is {results[0]['name']}.\")\n",
    "        hotel_df.loc[index, 'Hotel Name'] = results[0]['name']\n",
    "                \n",
    "    except (KeyError, IndexError):\n",
    "        print(\"Missing field/result... skipping.\")\n",
    "        \n",
    "    print(\"------------\")"
   ]
  },
  {
   "cell_type": "code",
   "execution_count": 116,
   "metadata": {},
   "outputs": [],
   "source": [
    "# NOTE: Do not change any of the code in this cell\n",
    "\n",
    "# Using the template add the hotel marks to the heatmap\n",
    "info_box_template = \"\"\"\n",
    "<dl>\n",
    "<dt>Name</dt><dd>{Hotel Name}</dd>\n",
    "<dt>City</dt><dd>{City}</dd>\n",
    "<dt>Country</dt><dd>{Country}</dd>\n",
    "</dl>\n",
    "\"\"\"\n",
    "# Store the DataFrame Row\n",
    "# NOTE: be sure to update with your DataFrame name\n",
    "hotel_info = [info_box_template.format(**row) for index, row in hotel_df.iterrows()]\n",
    "locations = hotel_df[[\"Lat\", \"Lng\"]]"
   ]
  },
  {
   "cell_type": "code",
   "execution_count": 117,
   "metadata": {},
   "outputs": [
    {
     "data": {
      "application/vnd.jupyter.widget-view+json": {
       "model_id": "fb725e7a77d142f197e884961844b442",
       "version_major": 2,
       "version_minor": 0
      },
      "text/plain": [
       "Figure(layout=FigureLayout(height='600px', width='950px'))"
      ]
     },
     "metadata": {},
     "output_type": "display_data"
    }
   ],
   "source": [
    "# Add marker layer ontop of heat map\n",
    "markers = gmaps.marker_layer(locations, info_box_content=hotel_info)\n",
    "fig.add_layer(markers)\n",
    "# Display figure\n",
    "fig\n",
    "\n",
    "\n"
   ]
  },
  {
   "cell_type": "code",
   "execution_count": null,
   "metadata": {},
   "outputs": [],
   "source": []
  }
 ],
 "metadata": {
  "kernelspec": {
   "display_name": "Python 3",
   "language": "python",
   "name": "python3"
  },
  "language_info": {
   "codemirror_mode": {
    "name": "ipython",
    "version": 3
   },
   "file_extension": ".py",
   "mimetype": "text/x-python",
   "name": "python",
   "nbconvert_exporter": "python",
   "pygments_lexer": "ipython3",
   "version": "3.8.3"
  },
  "latex_envs": {
   "LaTeX_envs_menu_present": true,
   "autoclose": false,
   "autocomplete": true,
   "bibliofile": "biblio.bib",
   "cite_by": "apalike",
   "current_citInitial": 1,
   "eqLabelWithNumbers": true,
   "eqNumInitial": 1,
   "hotkeys": {
    "equation": "Ctrl-E",
    "itemize": "Ctrl-I"
   },
   "labels_anchors": false,
   "latex_user_defs": false,
   "report_style_numbering": false,
   "user_envs_cfg": false
  }
 },
 "nbformat": 4,
 "nbformat_minor": 4
}
